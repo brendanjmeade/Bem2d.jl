{
 "cells": [
  {
   "cell_type": "markdown",
   "metadata": {},
   "source": [
    "### Derivation\n",
    "\n",
    "Let's start from the constitutive equation for elasticity and the constitutive equation for a Maxwell rheology. We'll do this in full 3D complexity and then reduce to plane-strain later.\n",
    "\n",
    "$$\\textrm{Elastic:  }~~ \\sigma_{ij} = 2\\mu\\epsilon_{ij} + \\lambda\\epsilon_{kk}\\delta_{ij}$$\n",
    "$$\\textrm{Maxwell:  }~~ \\dot{\\sigma}_{ij} + \\frac{\\mu}{\\eta}(\\sigma_{ij} - \\frac{\\sigma_{kk}}{3}\\delta_{ij}) = 2\\mu\\dot{\\epsilon}_{ij} + \\lambda\\dot{\\epsilon}_{kk}\\delta_{ij}$$\n",
    "\n",
    "And Newton's law:\n",
    "\n",
    "$$ \\frac{\\partial \\sigma_{ij}}{\\partial x_j} = f_i $$\n",
    "\n",
    "So, for an elastic rheology:\n",
    "\n",
    "$$ \\frac{\\partial [2\\mu\\epsilon_{ij} + \\lambda\\epsilon_{kk}\\delta_{ij}]}{\\partial x_j} = f_i $$\n",
    "\n",
    "For a viscoelastic rheology, remembering the time derivative: $\\dot{\\sigma}_{ij}$:\n",
    "\n",
    "$$ \\frac{\\partial \\big[2\\mu\\dot{\\epsilon}_{ij} + \\lambda\\dot{\\epsilon}_{kk}\\delta_{ij} - [\\frac{\\mu}{\\eta}(\\sigma_{ij} - \\frac{\\sigma_{kk}}{3}\\delta_{ij})]\\big]}{\\partial x_j} = \\dot{f}_i $$\n",
    "\n",
    "Rearranging the viscoelastic equation: \n",
    "\n",
    "$$ \\frac{\\partial \\big[2\\mu\\dot{\\epsilon}_{ij} + \\lambda\\dot{\\epsilon}_{kk}\\delta_{ij}\\big]}{\\partial x_j} = \\dot{f}_i  + \\frac{\\partial[\\frac{\\mu}{\\eta}(\\sigma_{ij} - \\frac{\\sigma_{kk}}{3}\\delta_{ij})]}{\\partial x_j} $$\n",
    "\n",
    "Rewriting the right hand side as $F_i$, we see that this is an elastic problem with a funny body force:\n",
    "\n",
    "$$ \\textrm{\"Elastic-like\": }~~ \\frac{\\partial \\big[2\\mu\\dot{\\epsilon}_{ij} + \\lambda\\dot{\\epsilon}_{kk}\\delta_{ij}\\big]}{\\partial x_j} = F_i$$\n",
    "$$ \\textrm{\"Viscoelastic body force\": }~~ F_i = \\dot{f}_i + \\frac{\\partial[\\frac{\\mu}{\\eta}(\\sigma_{ij} - \\frac{\\sigma_{kk}}{3}\\delta_{ij})]}{\\partial x_j} $$\n",
    "\n",
    "It's important to notice that in the main \"Elastic-like\" equation, we are operating in terms of velocity/strain-rate/stressing-rate because the whole equation has had a time derivative applied. \n",
    "\n",
    "So, how do we solve this? I see two broad ways depending on where we would prefer to do the time integration. \n",
    "\n",
    "1. Compute velocities and stressing rates at each time step and then integrate those to obtain displacement and stress. \n",
    "2. Integrate the \"Elastic-like\" equation analytically (trivial, since it just involves removing some dots), so that we can solve directly for displacement and stress then do a time integration to compute the current viscoelastic body force. \n",
    "\n",
    "I think method #2 is likely to be more accurate and stable simply because it involves lower order derivatives. Instead of integrating stressing rate in time to get stress, we are integrating stress in time to get the total viscoelastic body force. To do this, let's define:\n",
    "\n",
    "$$ V = \\int_{0}^{t}\\frac{\\partial[\\frac{\\mu}{\\eta}(\\sigma_{ij} - \\frac{\\sigma_{kk}}{3}\\delta_{ij})]}{\\partial x_j} dt $$\n",
    "\n",
    "and rearrange this to involve a time step:\n",
    "\n",
    "$$ V^{n+1}_i = V^{n}_i + \\int_{t^n}^{t^{n+1}} \\frac{\\partial[\\frac{\\mu}{\\eta}(\\sigma_{ij} - \\frac{\\sigma_{kk}}{3}\\delta_{ij})]}{\\partial x_j} dt$$\n",
    "\n",
    "Returning to the main law of motion:\n",
    "\n",
    "$$\\frac{\\partial \\sigma_{ij}^{n}}{\\partial x_j} = f^{n}_i + V^{n}_i$$\n",
    "\n",
    "So, what's the final solution procedure?\n",
    "\n",
    "1. Given $V_i^n$, solve the law of motion for stress, $\\sigma_{ij}$, and displacement $u_i$.\n",
    "2. Now, integrate the time step equation above to get $V_i^{n+1}$. "
   ]
  }
 ],
 "metadata": {
  "kernelspec": {
   "display_name": "Python 3",
   "language": "python",
   "name": "python3"
  },
  "language_info": {
   "codemirror_mode": {
    "name": "ipython",
    "version": 3
   },
   "file_extension": ".py",
   "mimetype": "text/x-python",
   "name": "python",
   "nbconvert_exporter": "python",
   "pygments_lexer": "ipython3",
   "version": "3.8.3"
  }
 },
 "nbformat": 4,
 "nbformat_minor": 4
}
